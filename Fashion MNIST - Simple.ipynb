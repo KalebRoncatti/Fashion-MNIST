{
 "cells": [
  {
   "cell_type": "code",
   "execution_count": 1,
   "metadata": {},
   "outputs": [],
   "source": [
    "import torch as th\n",
    "import torch.nn as nn\n",
    "import matplotlib.pyplot as plt\n",
    "import seaborn as sns\n",
    "import numpy as np\n",
    "import pickle\n",
    "import math\n",
    "import sklearn\n",
    "from sklearn.preprocessing import StandardScaler\n",
    "import pandas as pd"
   ]
  },
  {
   "cell_type": "code",
   "execution_count": 2,
   "metadata": {},
   "outputs": [
    {
     "data": {
      "text/plain": "torch.Size([60000, 784])"
     },
     "metadata": {},
     "output_type": "display_data"
    },
    {
     "data": {
      "text/plain": "torch.Size([10000, 784])"
     },
     "metadata": {},
     "output_type": "display_data"
    }
   ],
   "source": [
    "import gzip\n",
    "\n",
    "fp = gzip.open('fashion-mnist.pk.gz','rb')\n",
    "Xtrain, Ytrain, Xtest, Ytest, classlist  = pickle.load(fp)\n",
    "\n",
    "Xtrain_N = th.from_numpy(StandardScaler().fit_transform(Xtrain)).float()\n",
    "Xtrain_N=Xtrain_N.type(th.FloatTensor)\n",
    "Xtrain_N=Xtrain_N.cuda()\n",
    "\n",
    "Xtest_N = th.from_numpy(StandardScaler().fit_transform(Xtest)).float()\n",
    "Xtest_N=Xtest_N.type(th.FloatTensor)\n",
    "Xtest_N=Xtest_N.cuda()\n",
    "\n",
    "\n",
    "\n",
    "\n",
    "display(Xtrain_N.shape)\n",
    "display(Xtest_N.shape)"
   ]
  },
  {
   "cell_type": "code",
   "execution_count": 3,
   "metadata": {},
   "outputs": [
    {
     "data": {
      "text/plain": "<matplotlib.image.AxesImage at 0x20fa335a648>"
     },
     "execution_count": 3,
     "metadata": {},
     "output_type": "execute_result"
    },
    {
     "data": {
      "text/plain": "<Figure size 432x288 with 1 Axes>",
      "image/png": "[encoded data removed]"
     },
     "metadata": {
      "needs_background": "light"
     },
     "output_type": "display_data"
    }
   ],
   "source": [
    "plt.imshow(Xtrain[900].numpy().reshape(28,28))"
   ]
  },
  {
   "cell_type": "code",
   "execution_count": 4,
   "metadata": {},
   "outputs": [],
   "source": [
    "Xtrain = Xtrain.cuda()\n",
    "Xtest = Xtest.cuda()\n",
    "Ytrain = Ytrain.cuda()\n",
    "Ytest = Ytest.cuda()"
   ]
  },
  {
   "cell_type": "markdown",
   "metadata": {},
   "source": [
    "# Creating a function to train our model"
   ]
  },
  {
   "cell_type": "code",
   "execution_count": 5,
   "metadata": {},
   "outputs": [],
   "source": [
    "def train(model,optimizer,loss_fn,epochs,batch_size,Xtrain,Ytrain,Xtest,Ytest,verbose=False):\n",
    "    ### Mini-batching and shuffle \n",
    "    Ntrain = Xtrain.shape[0]\n",
    "    Nvalid = Xtest.shape[0]\n",
    "    idx = np.arange(Ntrain)              # Number of samples that we treat before update the gradient such as in descent gradient, a trade-off between batch and gradient descent methods\n",
    "    nbatch = int(Ntrain/batch_size)\n",
    "    \n",
    "    train_losses,valid_losses, valid_accuracies=[],[],[]\n",
    "    for e in range(epochs):\n",
    "        np.random.shuffle(idx)\n",
    "        running_loss=0\n",
    "        totaln = 0\n",
    "        for bi in range(nbatch):\n",
    "            ids = idx[bi*batch_size:(bi+1)*batch_size]\n",
    "            images = Xtrain[ids]\n",
    "            labels = Ytrain[ids]\n",
    "            totaln += labels.shape[0] # the number of samples\n",
    "            optimizer.zero_grad()\n",
    "            logprobs=model(images)\n",
    "            loss=loss_fn(logprobs,labels)\n",
    "            loss.backward()\n",
    "            optimizer.step()\n",
    "            running_loss+=loss.item()\n",
    "        # training is over for one epoch\n",
    "        # now compute interesting quantities\n",
    "        accuracy=0\n",
    "        valid_loss = 0        \n",
    "        with th.no_grad(): # From here, we ignore the gradient in calculations with tensors, which will increase the speed of the code\n",
    "            images = Xtest.cuda()   # We are going to valid the model\n",
    "            labels = Ytest.cuda()\n",
    "            logprobs=model(images).cuda()\n",
    "            valid_loss=loss_fn(logprobs,labels)\n",
    "            top_p,top_class=logprobs.topk(1)   # topk function will take the predicted class according to the model that we used\n",
    "            accuracy=(top_class.T == labels).sum().float()\n",
    "        train_losses.append(running_loss/batch_size)\n",
    "        valid_losses.append(valid_loss)\n",
    "        valid_accuracies.append(accuracy.item()*100.0/Nvalid)\n",
    "    print('Training/Validation done')\n",
    "        #print(\"Epoch: {}\\t\".format(e),\"train Loss: {:.5f}.. \".format(train_losses[-1]), \"valid Loss: {:.5f}.. \".format(valid_losses[-1]),\"valid Accuracy: {:.3f}\".format(valid_accuracies[-1]))  \n",
    "    #print(\"---------- Best : {:.3f}\".format(max(valid_accuracies)), \" at epoch \" , np.fromiter(valid_accuracies, dtype=np.float).argmax(), \" / \",epochs )\n",
    "    #plt.figure(figsize = (6, 4.5))\n",
    "    #plt.plot(train_losses)\n",
    "    #plt.ylim(bottom=0)\n",
    "    #plt.show()\n",
    "    #plt.figure(figsize = (6, 4.5))\n",
    "    #plt.plot(valid_losses)\n",
    "    #plt.ylim(bottom=0)\n",
    "    #plt.show()\n",
    "    #plt.figure(figsize = (6, 4.5))\n",
    "    #plt.plot(valid_accuracies)\n",
    "    #plt.ylim(bottom=0)\n",
    "    #plt.show()\n",
    "    return max(valid_accuracies) , np.fromiter(valid_accuracies, dtype=np.float).argmax()"
   ]
  },
  {
   "cell_type": "markdown",
   "metadata": {},
   "source": [
    "# Applying the most basic Neural Network with a LogSoftmax"
   ]
  },
  {
   "cell_type": "code",
   "execution_count": 6,
   "metadata": {},
   "outputs": [
    {
     "data": {
      "text/plain": [
       "torch.Size([60000, 784])"
      ]
     },
     "metadata": {},
     "output_type": "display_data"
    },
    {
     "data": {
      "text/plain": [
       "torch.Size([60000])"
      ]
     },
     "metadata": {},
     "output_type": "display_data"
    },
    {
     "data": {
      "text/plain": [
       "torch.Size([10000, 784])"
      ]
     },
     "metadata": {},
     "output_type": "display_data"
    },
    {
     "data": {
      "text/plain": [
       "torch.Size([10000])"
      ]
     },
     "metadata": {},
     "output_type": "display_data"
    }
   ],
   "source": [
    "display(Xtrain_N.shape)\n",
    "display(Ytrain.shape)\n",
    "display(Xtest_N.shape)\n",
    "display(Ytest.shape)"
   ]
  },
  {
   "cell_type": "code",
   "execution_count": 23,
   "metadata": {},
   "outputs": [
    {
     "name": "stdout",
     "output_type": "stream",
     "text": [
      "Training/Validation done\n",
      "Training/Validation done\n",
      "Training/Validation done\n",
      "Training/Validation done\n",
      "Training/Validation done\n",
      "Training/Validation done\n",
      "Training/Validation done\n",
      "Training/Validation done\n",
      "Training/Validation done\n",
      "Training/Validation done\n",
      "Training/Validation done\n",
      "Training/Validation done\n",
      "Training/Validation done\n",
      "Training/Validation done\n",
      "Training/Validation done\n",
      "Training/Validation done\n",
      "Training/Validation done\n",
      "Training/Validation done\n",
      "Training/Validation done\n",
      "Training/Validation done\n",
      "Training/Validation done\n",
      "Training/Validation done\n",
      "Training/Validation done\n",
      "Training/Validation done\n",
      "Training/Validation done\n",
      "Training/Validation done\n",
      "Training/Validation done\n",
      "Training/Validation done\n",
      "Training/Validation done\n",
      "Training/Validation done\n",
      "Training/Validation done\n",
      "Training/Validation done\n",
      "Training/Validation done\n",
      "Training/Validation done\n",
      "Training/Validation done\n",
      "Training/Validation done\n",
      "Training/Validation done\n",
      "Training/Validation done\n",
      "Training/Validation done\n",
      "Training/Validation done\n"
     ]
    }
   ],
   "source": [
    "epochs=20\n",
    "### The model, the loss and optimizer\n",
    "D_in = 784\n",
    "D_out= 10\n",
    "batch_size = 50\n",
    "MAX_ACC, IN_EPOCH, BATCH_SIZE = [], [], []\n",
    "\n",
    "for k in range(40):\n",
    "    model=nn.Sequential(nn.Linear(D_in,D_out),\n",
    "                    nn.LogSoftmax(dim=1)).cuda()\n",
    "    optimizer=th.optim.Adam(model.parameters(),lr=0.005)\n",
    "    loss_fn=nn.NLLLoss()\n",
    "    max_acc, EPOCH = train(model,optimizer,loss_fn,epochs,batch_size,Xtrain_N,Ytrain,Xtest_N,Ytest)\n",
    "    MAX_ACC.append(max_acc)\n",
    "    IN_EPOCH.append(EPOCH)\n",
    "    BATCH_SIZE.append(batch_size)\n",
    "    batch_size = batch_size + 50"
   ]
  },
  {
   "cell_type": "code",
   "execution_count": 24,
   "metadata": {},
   "outputs": [
    {
     "data": {
      "image/png": "[encoded data removed]",
      "text/plain": [
       "<Figure size 432x288 with 1 Axes>"
      ]
     },
     "metadata": {
      "needs_background": "light"
     },
     "output_type": "display_data"
    },
    {
     "name": "stdout",
     "output_type": "stream",
     "text": [
      "The best accuracy was 84.55 % for 1950 batches\n"
     ]
    }
   ],
   "source": [
    "plt.plot(BATCH_SIZE,MAX_ACC)\n",
    "plt.xlabel('Batch Size')\n",
    "plt.ylabel('Accuracy (%)')\n",
    "plt.show()\n",
    "print('The best accuracy was' , max(MAX_ACC),'% for',  BATCH_SIZE[MAX_ACC.index(max(MAX_ACC))], 'batches')"
   ]
  },
  {
   "cell_type": "markdown",
   "metadata": {},
   "source": [
    "# Using one hidden layer "
   ]
  },
  {
   "cell_type": "code",
   "execution_count": 25,
   "metadata": {},
   "outputs": [
    {
     "name": "stdout",
     "output_type": "stream",
     "text": [
      "Training/Validation done\n",
      "Training/Validation done\n",
      "Training/Validation done\n",
      "Training/Validation done\n",
      "Training/Validation done\n",
      "Training/Validation done\n",
      "Training/Validation done\n",
      "Training/Validation done\n",
      "Training/Validation done\n",
      "Training/Validation done\n",
      "Training/Validation done\n",
      "Training/Validation done\n",
      "Training/Validation done\n",
      "Training/Validation done\n",
      "Training/Validation done\n",
      "Training/Validation done\n",
      "Training/Validation done\n",
      "Training/Validation done\n",
      "Training/Validation done\n",
      "Training/Validation done\n",
      "Training/Validation done\n",
      "Training/Validation done\n",
      "Training/Validation done\n",
      "Training/Validation done\n",
      "Training/Validation done\n",
      "Training/Validation done\n",
      "Training/Validation done\n",
      "Training/Validation done\n",
      "Training/Validation done\n",
      "Training/Validation done\n",
      "Training/Validation done\n",
      "Training/Validation done\n",
      "Training/Validation done\n",
      "Training/Validation done\n",
      "Training/Validation done\n",
      "Training/Validation done\n",
      "Training/Validation done\n",
      "Training/Validation done\n",
      "Training/Validation done\n",
      "Training/Validation done\n",
      "Training/Validation done\n",
      "Training/Validation done\n",
      "Training/Validation done\n",
      "Training/Validation done\n",
      "Training/Validation done\n",
      "Training/Validation done\n",
      "Training/Validation done\n",
      "Training/Validation done\n",
      "Training/Validation done\n",
      "Training/Validation done\n"
     ]
    }
   ],
   "source": [
    "# Using 175 as batch size\n",
    "\n",
    "epochs=20\n",
    "### The model, the loss and optimizer\n",
    "D_in = 784\n",
    "D_1 = 10\n",
    "D_out= 10\n",
    "batch_size = 2000\n",
    "MAX_ACC, IN_EPOCH, N_D1 = [], [], []\n",
    "\n",
    "for k in range(50):\n",
    "    model=nn.Sequential(nn.Linear(D_in,D_1),\n",
    "                    nn.Sigmoid(),\n",
    "                    nn.Linear(D_1,D_out),\n",
    "                    nn.LogSoftmax(dim=1)).cuda()\n",
    "\n",
    "    optimizer=th.optim.Adam(model.parameters(),lr=0.005)\n",
    "    loss_fn=nn.NLLLoss()\n",
    "    max_acc, EPOCH = train(model,optimizer,loss_fn,epochs,batch_size,Xtrain_N,Ytrain,Xtest_N,Ytest)\n",
    "    MAX_ACC.append(max_acc)\n",
    "    IN_EPOCH.append(EPOCH)\n",
    "    N_D1.append(D_1)\n",
    "    D_1 = D_1 + 50"
   ]
  },
  {
   "cell_type": "code",
   "execution_count": 26,
   "metadata": {},
   "outputs": [
    {
     "data": {
      "image/png": "[encoded data removed]",
      "text/plain": [
       "<Figure size 432x288 with 1 Axes>"
      ]
     },
     "metadata": {
      "needs_background": "light"
     },
     "output_type": "display_data"
    },
    {
     "name": "stdout",
     "output_type": "stream",
     "text": [
      "The best accuracy was 89.55 % for 1210 as size of the first hidden layer\n"
     ]
    }
   ],
   "source": [
    "plt.plot(N_D1,MAX_ACC)\n",
    "plt.xlabel('Size of Hidden Layer')\n",
    "plt.ylabel('Accuracy (%)')\n",
    "plt.show()\n",
    "\n",
    "\n",
    "print('The best accuracy was' , max(MAX_ACC),'% for',  N_D1[MAX_ACC.index(max(MAX_ACC))], 'as size of the first hidden layer')"
   ]
  },
  {
   "cell_type": "code",
   "execution_count": null,
   "metadata": {},
   "outputs": [],
   "source": []
  }
 ],
 "metadata": {
  "kernelspec": {
   "display_name": "Python 3",
   "language": "python",
   "name": "python3"
  },
  "language_info": {
   "codemirror_mode": {
    "name": "ipython",
    "version": 3
   },
   "file_extension": ".py",
   "mimetype": "text/x-python",
   "name": "python",
   "nbconvert_exporter": "python",
   "pygments_lexer": "ipython3",
   "version": "3.7.7"
  }
 },
 "nbformat": 4,
 "nbformat_minor": 4
}